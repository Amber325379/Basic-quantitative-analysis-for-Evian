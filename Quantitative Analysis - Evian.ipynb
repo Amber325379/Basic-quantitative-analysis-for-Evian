{
 "cells": [
  {
   "cell_type": "code",
   "execution_count": 1,
   "metadata": {},
   "outputs": [
    {
     "data": {
      "text/plain": [
       "'C:\\\\Users\\\\Amber\\\\Documents\\\\Statistics'"
      ]
     },
     "execution_count": 1,
     "metadata": {},
     "output_type": "execute_result"
    }
   ],
   "source": [
    "pwd()"
   ]
  },
  {
   "cell_type": "code",
   "execution_count": 2,
   "metadata": {},
   "outputs": [],
   "source": [
    "import pandas as pd\n",
    "import numpy as np\n",
    "import matplotlib.pyplot as plt"
   ]
  },
  {
   "cell_type": "code",
   "execution_count": 3,
   "metadata": {},
   "outputs": [],
   "source": [
    "resutls = pd.read_csv('result_mkt.csv')"
   ]
  },
  {
   "cell_type": "code",
   "execution_count": 5,
   "metadata": {
    "scrolled": true
   },
   "outputs": [
    {
     "data": {
      "text/html": [
       "<div>\n",
       "<style scoped>\n",
       "    .dataframe tbody tr th:only-of-type {\n",
       "        vertical-align: middle;\n",
       "    }\n",
       "\n",
       "    .dataframe tbody tr th {\n",
       "        vertical-align: top;\n",
       "    }\n",
       "\n",
       "    .dataframe thead th {\n",
       "        text-align: right;\n",
       "    }\n",
       "</style>\n",
       "<table border=\"1\" class=\"dataframe\">\n",
       "  <thead>\n",
       "    <tr style=\"text-align: right;\">\n",
       "      <th></th>\n",
       "      <th>时间戳记</th>\n",
       "      <th>You are:</th>\n",
       "      <th>Your age:</th>\n",
       "      <th>Your place of residence:</th>\n",
       "      <th>The size of your household:</th>\n",
       "      <th>Your household composition:</th>\n",
       "      <th>Your occupation</th>\n",
       "      <th>Your income:</th>\n",
       "      <th>How concerned are you about the environment:</th>\n",
       "      <th>Which water do you prefer to drink?</th>\n",
       "      <th>...</th>\n",
       "      <th>What bottle size do you prefer?</th>\n",
       "      <th>What image do you associate with Evian?</th>\n",
       "      <th>How do you purchase?</th>\n",
       "      <th>How expensive is Evian compared to its competitors?</th>\n",
       "      <th>How desirable is Evian compared to its competitors?</th>\n",
       "      <th>How healthy is Evian compared to its competitors?</th>\n",
       "      <th>How accessible is Evian compared to its competitors?</th>\n",
       "      <th>How much are you willing to pay for 1.0cl of Evian bottle?</th>\n",
       "      <th>How much are you willing to pay for 1.0cl of other bottled water?</th>\n",
       "      <th>Will you purchase the Evian water if you know the purchase will help to protect the environment?</th>\n",
       "    </tr>\n",
       "  </thead>\n",
       "  <tbody>\n",
       "    <tr>\n",
       "      <th>0</th>\n",
       "      <td>2020/11/13 9:39:54 上午 GMT+1</td>\n",
       "      <td>Female</td>\n",
       "      <td>18 to 29</td>\n",
       "      <td>Outer Paris</td>\n",
       "      <td>1</td>\n",
       "      <td>Adults i.e. 18 years and above</td>\n",
       "      <td>Student</td>\n",
       "      <td>Under €1000</td>\n",
       "      <td>4</td>\n",
       "      <td>Tap Water</td>\n",
       "      <td>...</td>\n",
       "      <td>1.0cl</td>\n",
       "      <td>Expensive</td>\n",
       "      <td>Retail Store</td>\n",
       "      <td>5</td>\n",
       "      <td>5</td>\n",
       "      <td>5</td>\n",
       "      <td>5</td>\n",
       "      <td>€1 to €2</td>\n",
       "      <td>Less than €1</td>\n",
       "      <td>5</td>\n",
       "    </tr>\n",
       "    <tr>\n",
       "      <th>1</th>\n",
       "      <td>2020/11/13 9:54:38 上午 GMT+1</td>\n",
       "      <td>Female</td>\n",
       "      <td>18 to 29</td>\n",
       "      <td>Outer Paris</td>\n",
       "      <td>1</td>\n",
       "      <td>Adults i.e. 18 years and above</td>\n",
       "      <td>Student</td>\n",
       "      <td>Under €1000</td>\n",
       "      <td>4</td>\n",
       "      <td>Bottled Water</td>\n",
       "      <td>...</td>\n",
       "      <td>1.5cl</td>\n",
       "      <td>Healthy</td>\n",
       "      <td>Retail Store</td>\n",
       "      <td>4</td>\n",
       "      <td>4</td>\n",
       "      <td>4</td>\n",
       "      <td>3</td>\n",
       "      <td>€1 to €2</td>\n",
       "      <td>€1 to €2</td>\n",
       "      <td>4</td>\n",
       "    </tr>\n",
       "    <tr>\n",
       "      <th>2</th>\n",
       "      <td>2020/11/13 9:55:28 上午 GMT+1</td>\n",
       "      <td>Male</td>\n",
       "      <td>18 to 29</td>\n",
       "      <td>Outer Paris</td>\n",
       "      <td>1</td>\n",
       "      <td>Adults i.e. 18 years and above</td>\n",
       "      <td>Student</td>\n",
       "      <td>Under €1000</td>\n",
       "      <td>5</td>\n",
       "      <td>Bottled Water</td>\n",
       "      <td>...</td>\n",
       "      <td>1.5cl</td>\n",
       "      <td>Good taste</td>\n",
       "      <td>Retail Store</td>\n",
       "      <td>4</td>\n",
       "      <td>3</td>\n",
       "      <td>3</td>\n",
       "      <td>3</td>\n",
       "      <td>Less than €1</td>\n",
       "      <td>Less than €1</td>\n",
       "      <td>3</td>\n",
       "    </tr>\n",
       "    <tr>\n",
       "      <th>3</th>\n",
       "      <td>2020/11/13 9:55:50 上午 GMT+1</td>\n",
       "      <td>Male</td>\n",
       "      <td>18 to 29</td>\n",
       "      <td>Outer Paris</td>\n",
       "      <td>1</td>\n",
       "      <td>Adults i.e. 18 years and above</td>\n",
       "      <td>Student</td>\n",
       "      <td>Under €1000</td>\n",
       "      <td>2</td>\n",
       "      <td>Bottled Water</td>\n",
       "      <td>...</td>\n",
       "      <td>1.5cl</td>\n",
       "      <td>Expensive</td>\n",
       "      <td>Retail Store</td>\n",
       "      <td>2</td>\n",
       "      <td>2</td>\n",
       "      <td>1</td>\n",
       "      <td>2</td>\n",
       "      <td>€1 to €2</td>\n",
       "      <td>Less than €1</td>\n",
       "      <td>3</td>\n",
       "    </tr>\n",
       "    <tr>\n",
       "      <th>4</th>\n",
       "      <td>2020/11/13 9:59:07 上午 GMT+1</td>\n",
       "      <td>Female</td>\n",
       "      <td>30 to 39</td>\n",
       "      <td>Provience</td>\n",
       "      <td>4</td>\n",
       "      <td>Adults i.e. 18 years and above</td>\n",
       "      <td>Student</td>\n",
       "      <td>Between €2000 to €3000</td>\n",
       "      <td>4</td>\n",
       "      <td>Tap Water</td>\n",
       "      <td>...</td>\n",
       "      <td>0.5cl</td>\n",
       "      <td>Healthy</td>\n",
       "      <td>Retail Store</td>\n",
       "      <td>3</td>\n",
       "      <td>3</td>\n",
       "      <td>3</td>\n",
       "      <td>3</td>\n",
       "      <td>€2 to €3</td>\n",
       "      <td>€2 to €3</td>\n",
       "      <td>3</td>\n",
       "    </tr>\n",
       "  </tbody>\n",
       "</table>\n",
       "<p>5 rows × 24 columns</p>\n",
       "</div>"
      ],
      "text/plain": [
       "                          时间戳记 You are: Your age: Your place of residence:  \\\n",
       "0  2020/11/13 9:39:54 上午 GMT+1   Female  18 to 29              Outer Paris   \n",
       "1  2020/11/13 9:54:38 上午 GMT+1   Female  18 to 29              Outer Paris   \n",
       "2  2020/11/13 9:55:28 上午 GMT+1     Male  18 to 29              Outer Paris   \n",
       "3  2020/11/13 9:55:50 上午 GMT+1     Male  18 to 29              Outer Paris   \n",
       "4  2020/11/13 9:59:07 上午 GMT+1   Female  30 to 39                Provience   \n",
       "\n",
       "  The size of your household:     Your household composition: Your occupation  \\\n",
       "0                           1  Adults i.e. 18 years and above         Student   \n",
       "1                           1  Adults i.e. 18 years and above         Student   \n",
       "2                           1  Adults i.e. 18 years and above         Student   \n",
       "3                           1  Adults i.e. 18 years and above         Student   \n",
       "4                           4  Adults i.e. 18 years and above         Student   \n",
       "\n",
       "             Your income:  How concerned are you about the environment:  \\\n",
       "0             Under €1000                                             4   \n",
       "1             Under €1000                                             4   \n",
       "2             Under €1000                                             5   \n",
       "3             Under €1000                                             2   \n",
       "4  Between €2000 to €3000                                             4   \n",
       "\n",
       "  Which water do you prefer to drink?  ... What bottle size do you prefer?  \\\n",
       "0                           Tap Water  ...                           1.0cl   \n",
       "1                       Bottled Water  ...                           1.5cl   \n",
       "2                       Bottled Water  ...                           1.5cl   \n",
       "3                       Bottled Water  ...                           1.5cl   \n",
       "4                           Tap Water  ...                           0.5cl   \n",
       "\n",
       "  What image do you associate with Evian?  How do you purchase?  \\\n",
       "0                               Expensive          Retail Store   \n",
       "1                                 Healthy          Retail Store   \n",
       "2                              Good taste          Retail Store   \n",
       "3                               Expensive          Retail Store   \n",
       "4                                 Healthy          Retail Store   \n",
       "\n",
       "   How expensive is Evian compared to its competitors?  \\\n",
       "0                                                  5     \n",
       "1                                                  4     \n",
       "2                                                  4     \n",
       "3                                                  2     \n",
       "4                                                  3     \n",
       "\n",
       "  How desirable is Evian compared to its competitors?  \\\n",
       "0                                                  5    \n",
       "1                                                  4    \n",
       "2                                                  3    \n",
       "3                                                  2    \n",
       "4                                                  3    \n",
       "\n",
       "  How healthy is Evian compared to its competitors?  \\\n",
       "0                                                 5   \n",
       "1                                                 4   \n",
       "2                                                 3   \n",
       "3                                                 1   \n",
       "4                                                 3   \n",
       "\n",
       "  How accessible is Evian compared to its competitors?  \\\n",
       "0                                                  5     \n",
       "1                                                  3     \n",
       "2                                                  3     \n",
       "3                                                  2     \n",
       "4                                                  3     \n",
       "\n",
       "   How much are you willing to pay for 1.0cl of Evian bottle?  \\\n",
       "0                                           €1 to €2            \n",
       "1                                           €1 to €2            \n",
       "2                                       Less than €1            \n",
       "3                                           €1 to €2            \n",
       "4                                           €2 to €3            \n",
       "\n",
       "   How much are you willing to pay for 1.0cl of other bottled water?  \\\n",
       "0                                       Less than €1                   \n",
       "1                                           €1 to €2                   \n",
       "2                                       Less than €1                   \n",
       "3                                       Less than €1                   \n",
       "4                                           €2 to €3                   \n",
       "\n",
       "   Will you purchase the Evian water if you know the purchase will help to protect the environment?  \n",
       "0                                                  5                                                 \n",
       "1                                                  4                                                 \n",
       "2                                                  3                                                 \n",
       "3                                                  3                                                 \n",
       "4                                                  3                                                 \n",
       "\n",
       "[5 rows x 24 columns]"
      ]
     },
     "execution_count": 5,
     "metadata": {},
     "output_type": "execute_result"
    }
   ],
   "source": [
    "resutls.head()"
   ]
  },
  {
   "cell_type": "code",
   "execution_count": 7,
   "metadata": {},
   "outputs": [],
   "source": [
    "results = resutls"
   ]
  },
  {
   "cell_type": "code",
   "execution_count": 8,
   "metadata": {},
   "outputs": [
    {
     "data": {
      "text/plain": [
       "Index(['时间戳记', 'You are:', 'Your age:', 'Your place of residence:',\n",
       "       'The size of your household:', 'Your household composition:',\n",
       "       'Your occupation', 'Your income:',\n",
       "       'How concerned are you about the environment:',\n",
       "       'Which water do you prefer to drink?',\n",
       "       'How frequently do you buy bottled water?',\n",
       "       'Which company's bottled water do you usually buy?',\n",
       "       'How often do you buy Evian's Bottled Water?',\n",
       "       'How often do you buy from Evian's competitor?',\n",
       "       'What bottle size do you prefer?',\n",
       "       'What image do you associate with Evian?', 'How do you purchase?',\n",
       "       'How expensive is Evian compared to its competitors?',\n",
       "       'How desirable is Evian compared to its competitors?',\n",
       "       'How healthy is Evian compared to its competitors?',\n",
       "       'How accessible is Evian compared to its competitors?',\n",
       "       'How much are you willing to pay for 1.0cl of Evian bottle?',\n",
       "       'How much are you willing to pay for 1.0cl of other bottled water?',\n",
       "       'Will you purchase the Evian water if you know the purchase will help to protect the environment?'],\n",
       "      dtype='object')"
      ]
     },
     "execution_count": 8,
     "metadata": {},
     "output_type": "execute_result"
    }
   ],
   "source": [
    "results.columns"
   ]
  },
  {
   "cell_type": "code",
   "execution_count": 10,
   "metadata": {},
   "outputs": [],
   "source": [
    "results.columns = ['Time','Gender','Age','Residence','Size of household','Household Composition','Occupation','Income','Concerned_about_Environment','Water_type','Bottle_water_purchase_frequency','Prefer_brand','Evian_purchase_frequency','competitor_purchase_frequency','bottle_size','Evian_image','purchase_channel','Evian_expensive','Evian_desirable','Evian_healthy','Evian_accessible','evian_purchase_wil','other_purchase_wil','evian_environment']"
   ]
  },
  {
   "cell_type": "code",
   "execution_count": 11,
   "metadata": {
    "scrolled": true
   },
   "outputs": [
    {
     "data": {
      "text/html": [
       "<div>\n",
       "<style scoped>\n",
       "    .dataframe tbody tr th:only-of-type {\n",
       "        vertical-align: middle;\n",
       "    }\n",
       "\n",
       "    .dataframe tbody tr th {\n",
       "        vertical-align: top;\n",
       "    }\n",
       "\n",
       "    .dataframe thead th {\n",
       "        text-align: right;\n",
       "    }\n",
       "</style>\n",
       "<table border=\"1\" class=\"dataframe\">\n",
       "  <thead>\n",
       "    <tr style=\"text-align: right;\">\n",
       "      <th></th>\n",
       "      <th>Time</th>\n",
       "      <th>Gender</th>\n",
       "      <th>Age</th>\n",
       "      <th>Residence</th>\n",
       "      <th>Size of household</th>\n",
       "      <th>Household Composition</th>\n",
       "      <th>Occupation</th>\n",
       "      <th>Income</th>\n",
       "      <th>Concerned_about_Environment</th>\n",
       "      <th>Water_type</th>\n",
       "      <th>...</th>\n",
       "      <th>bottle_size</th>\n",
       "      <th>Evian_image</th>\n",
       "      <th>purchase_channel</th>\n",
       "      <th>Evian_expensive</th>\n",
       "      <th>Evian_desirable</th>\n",
       "      <th>Evian_healthy</th>\n",
       "      <th>Evian_accessible</th>\n",
       "      <th>evian_purchase_wil</th>\n",
       "      <th>other_purchase_wil</th>\n",
       "      <th>evian_environment</th>\n",
       "    </tr>\n",
       "  </thead>\n",
       "  <tbody>\n",
       "    <tr>\n",
       "      <th>0</th>\n",
       "      <td>2020/11/13 9:39:54 上午 GMT+1</td>\n",
       "      <td>Female</td>\n",
       "      <td>18 to 29</td>\n",
       "      <td>Outer Paris</td>\n",
       "      <td>1</td>\n",
       "      <td>Adults i.e. 18 years and above</td>\n",
       "      <td>Student</td>\n",
       "      <td>Under €1000</td>\n",
       "      <td>4</td>\n",
       "      <td>Tap Water</td>\n",
       "      <td>...</td>\n",
       "      <td>1.0cl</td>\n",
       "      <td>Expensive</td>\n",
       "      <td>Retail Store</td>\n",
       "      <td>5</td>\n",
       "      <td>5</td>\n",
       "      <td>5</td>\n",
       "      <td>5</td>\n",
       "      <td>€1 to €2</td>\n",
       "      <td>Less than €1</td>\n",
       "      <td>5</td>\n",
       "    </tr>\n",
       "    <tr>\n",
       "      <th>1</th>\n",
       "      <td>2020/11/13 9:54:38 上午 GMT+1</td>\n",
       "      <td>Female</td>\n",
       "      <td>18 to 29</td>\n",
       "      <td>Outer Paris</td>\n",
       "      <td>1</td>\n",
       "      <td>Adults i.e. 18 years and above</td>\n",
       "      <td>Student</td>\n",
       "      <td>Under €1000</td>\n",
       "      <td>4</td>\n",
       "      <td>Bottled Water</td>\n",
       "      <td>...</td>\n",
       "      <td>1.5cl</td>\n",
       "      <td>Healthy</td>\n",
       "      <td>Retail Store</td>\n",
       "      <td>4</td>\n",
       "      <td>4</td>\n",
       "      <td>4</td>\n",
       "      <td>3</td>\n",
       "      <td>€1 to €2</td>\n",
       "      <td>€1 to €2</td>\n",
       "      <td>4</td>\n",
       "    </tr>\n",
       "    <tr>\n",
       "      <th>2</th>\n",
       "      <td>2020/11/13 9:55:28 上午 GMT+1</td>\n",
       "      <td>Male</td>\n",
       "      <td>18 to 29</td>\n",
       "      <td>Outer Paris</td>\n",
       "      <td>1</td>\n",
       "      <td>Adults i.e. 18 years and above</td>\n",
       "      <td>Student</td>\n",
       "      <td>Under €1000</td>\n",
       "      <td>5</td>\n",
       "      <td>Bottled Water</td>\n",
       "      <td>...</td>\n",
       "      <td>1.5cl</td>\n",
       "      <td>Good taste</td>\n",
       "      <td>Retail Store</td>\n",
       "      <td>4</td>\n",
       "      <td>3</td>\n",
       "      <td>3</td>\n",
       "      <td>3</td>\n",
       "      <td>Less than €1</td>\n",
       "      <td>Less than €1</td>\n",
       "      <td>3</td>\n",
       "    </tr>\n",
       "    <tr>\n",
       "      <th>3</th>\n",
       "      <td>2020/11/13 9:55:50 上午 GMT+1</td>\n",
       "      <td>Male</td>\n",
       "      <td>18 to 29</td>\n",
       "      <td>Outer Paris</td>\n",
       "      <td>1</td>\n",
       "      <td>Adults i.e. 18 years and above</td>\n",
       "      <td>Student</td>\n",
       "      <td>Under €1000</td>\n",
       "      <td>2</td>\n",
       "      <td>Bottled Water</td>\n",
       "      <td>...</td>\n",
       "      <td>1.5cl</td>\n",
       "      <td>Expensive</td>\n",
       "      <td>Retail Store</td>\n",
       "      <td>2</td>\n",
       "      <td>2</td>\n",
       "      <td>1</td>\n",
       "      <td>2</td>\n",
       "      <td>€1 to €2</td>\n",
       "      <td>Less than €1</td>\n",
       "      <td>3</td>\n",
       "    </tr>\n",
       "    <tr>\n",
       "      <th>4</th>\n",
       "      <td>2020/11/13 9:59:07 上午 GMT+1</td>\n",
       "      <td>Female</td>\n",
       "      <td>30 to 39</td>\n",
       "      <td>Provience</td>\n",
       "      <td>4</td>\n",
       "      <td>Adults i.e. 18 years and above</td>\n",
       "      <td>Student</td>\n",
       "      <td>Between €2000 to €3000</td>\n",
       "      <td>4</td>\n",
       "      <td>Tap Water</td>\n",
       "      <td>...</td>\n",
       "      <td>0.5cl</td>\n",
       "      <td>Healthy</td>\n",
       "      <td>Retail Store</td>\n",
       "      <td>3</td>\n",
       "      <td>3</td>\n",
       "      <td>3</td>\n",
       "      <td>3</td>\n",
       "      <td>€2 to €3</td>\n",
       "      <td>€2 to €3</td>\n",
       "      <td>3</td>\n",
       "    </tr>\n",
       "  </tbody>\n",
       "</table>\n",
       "<p>5 rows × 24 columns</p>\n",
       "</div>"
      ],
      "text/plain": [
       "                          Time  Gender       Age    Residence  \\\n",
       "0  2020/11/13 9:39:54 上午 GMT+1  Female  18 to 29  Outer Paris   \n",
       "1  2020/11/13 9:54:38 上午 GMT+1  Female  18 to 29  Outer Paris   \n",
       "2  2020/11/13 9:55:28 上午 GMT+1    Male  18 to 29  Outer Paris   \n",
       "3  2020/11/13 9:55:50 上午 GMT+1    Male  18 to 29  Outer Paris   \n",
       "4  2020/11/13 9:59:07 上午 GMT+1  Female  30 to 39    Provience   \n",
       "\n",
       "  Size of household           Household Composition Occupation  \\\n",
       "0                 1  Adults i.e. 18 years and above    Student   \n",
       "1                 1  Adults i.e. 18 years and above    Student   \n",
       "2                 1  Adults i.e. 18 years and above    Student   \n",
       "3                 1  Adults i.e. 18 years and above    Student   \n",
       "4                 4  Adults i.e. 18 years and above    Student   \n",
       "\n",
       "                   Income  Concerned_about_Environment     Water_type  ...  \\\n",
       "0             Under €1000                            4      Tap Water  ...   \n",
       "1             Under €1000                            4  Bottled Water  ...   \n",
       "2             Under €1000                            5  Bottled Water  ...   \n",
       "3             Under €1000                            2  Bottled Water  ...   \n",
       "4  Between €2000 to €3000                            4      Tap Water  ...   \n",
       "\n",
       "  bottle_size Evian_image  purchase_channel  Evian_expensive Evian_desirable  \\\n",
       "0       1.0cl   Expensive      Retail Store                5               5   \n",
       "1       1.5cl     Healthy      Retail Store                4               4   \n",
       "2       1.5cl  Good taste      Retail Store                4               3   \n",
       "3       1.5cl   Expensive      Retail Store                2               2   \n",
       "4       0.5cl     Healthy      Retail Store                3               3   \n",
       "\n",
       "  Evian_healthy Evian_accessible  evian_purchase_wil  other_purchase_wil  \\\n",
       "0             5                5            €1 to €2        Less than €1   \n",
       "1             4                3            €1 to €2            €1 to €2   \n",
       "2             3                3        Less than €1        Less than €1   \n",
       "3             1                2            €1 to €2        Less than €1   \n",
       "4             3                3            €2 to €3            €2 to €3   \n",
       "\n",
       "   evian_environment  \n",
       "0                  5  \n",
       "1                  4  \n",
       "2                  3  \n",
       "3                  3  \n",
       "4                  3  \n",
       "\n",
       "[5 rows x 24 columns]"
      ]
     },
     "execution_count": 11,
     "metadata": {},
     "output_type": "execute_result"
    }
   ],
   "source": [
    "results.head()"
   ]
  },
  {
   "cell_type": "code",
   "execution_count": 16,
   "metadata": {},
   "outputs": [
    {
     "data": {
      "text/plain": [
       "3.9405940594059405"
      ]
     },
     "execution_count": 16,
     "metadata": {},
     "output_type": "execute_result"
    }
   ],
   "source": [
    "Expensive_avg = results.Evian_expensive.mean()\n",
    "Expensive_avg"
   ]
  },
  {
   "cell_type": "code",
   "execution_count": 18,
   "metadata": {},
   "outputs": [
    {
     "data": {
      "text/plain": [
       "3.792079207920792"
      ]
     },
     "execution_count": 18,
     "metadata": {},
     "output_type": "execute_result"
    }
   ],
   "source": [
    "Desirable_avg = results.Evian_desirable.mean()\n",
    "Desirable_avg"
   ]
  },
  {
   "cell_type": "code",
   "execution_count": 19,
   "metadata": {},
   "outputs": [
    {
     "data": {
      "text/plain": [
       "3.891089108910891"
      ]
     },
     "execution_count": 19,
     "metadata": {},
     "output_type": "execute_result"
    }
   ],
   "source": [
    "Healthy_avg = results.Evian_healthy.mean()\n",
    "Healthy_avg"
   ]
  },
  {
   "cell_type": "code",
   "execution_count": 20,
   "metadata": {
    "scrolled": true
   },
   "outputs": [
    {
     "data": {
      "text/plain": [
       "3.891089108910891"
      ]
     },
     "execution_count": 20,
     "metadata": {},
     "output_type": "execute_result"
    }
   ],
   "source": [
    "Accessible_avg = results.Evian_healthy.mean()\n",
    "Accessible_avg"
   ]
  },
  {
   "cell_type": "code",
   "execution_count": 21,
   "metadata": {},
   "outputs": [],
   "source": [
    "expensive_gender =results['Evian_expensive'].groupby(results.Gender).mean()"
   ]
  },
  {
   "cell_type": "code",
   "execution_count": 22,
   "metadata": {
    "scrolled": true
   },
   "outputs": [
    {
     "data": {
      "text/plain": [
       "Gender\n",
       "Female        3.916667\n",
       "Male          4.000000\n",
       "Non-binary    3.000000\n",
       "Name: Evian_expensive, dtype: float64"
      ]
     },
     "execution_count": 22,
     "metadata": {},
     "output_type": "execute_result"
    }
   ],
   "source": [
    "expensive_gender"
   ]
  },
  {
   "cell_type": "code",
   "execution_count": 23,
   "metadata": {},
   "outputs": [
    {
     "data": {
      "text/plain": [
       "Female        60\n",
       "Male          40\n",
       "Non-binary     1\n",
       "Name: Gender, dtype: int64"
      ]
     },
     "execution_count": 23,
     "metadata": {},
     "output_type": "execute_result"
    }
   ],
   "source": [
    "results.Gender.value_counts()"
   ]
  },
  {
   "cell_type": "code",
   "execution_count": 25,
   "metadata": {},
   "outputs": [
    {
     "data": {
      "text/plain": [
       "Gender\n",
       "Female        3.916667\n",
       "Male          3.650000\n",
       "Non-binary    2.000000\n",
       "Name: Evian_desirable, dtype: float64"
      ]
     },
     "execution_count": 25,
     "metadata": {},
     "output_type": "execute_result"
    }
   ],
   "source": [
    "desirable_gender =results['Evian_desirable'].groupby(results.Gender).mean()\n",
    "desirable_gender"
   ]
  },
  {
   "cell_type": "code",
   "execution_count": 26,
   "metadata": {},
   "outputs": [
    {
     "data": {
      "text/plain": [
       "Gender\n",
       "Female        4.016667\n",
       "Male          3.750000\n",
       "Non-binary    2.000000\n",
       "Name: Evian_healthy, dtype: float64"
      ]
     },
     "execution_count": 26,
     "metadata": {},
     "output_type": "execute_result"
    }
   ],
   "source": [
    "healthy_gender = results['Evian_healthy'].groupby(results.Gender).mean()\n",
    "healthy_gender"
   ]
  },
  {
   "cell_type": "code",
   "execution_count": 27,
   "metadata": {},
   "outputs": [
    {
     "data": {
      "text/plain": [
       "Gender\n",
       "Female        4.166667\n",
       "Male          3.725000\n",
       "Non-binary    3.000000\n",
       "Name: Evian_accessible, dtype: float64"
      ]
     },
     "execution_count": 27,
     "metadata": {},
     "output_type": "execute_result"
    }
   ],
   "source": [
    "Accessible_gender =  results['Evian_accessible'].groupby(results.Gender).mean()\n",
    "Accessible_gender"
   ]
  },
  {
   "cell_type": "code",
   "execution_count": 28,
   "metadata": {},
   "outputs": [],
   "source": [
    "expensive_bar = results.Evian_expensive.value_counts()"
   ]
  },
  {
   "cell_type": "code",
   "execution_count": 33,
   "metadata": {
    "scrolled": false
   },
   "outputs": [
    {
     "data": {
      "text/plain": [
       "Text(0, 0.5, 'Observation number')"
      ]
     },
     "execution_count": 33,
     "metadata": {},
     "output_type": "execute_result"
    },
    {
     "data": {
      "image/png": "[encoded data removed]",
      "text/plain": [
       "<Figure size 432x288 with 1 Axes>"
      ]
     },
     "metadata": {
      "needs_background": "light"
     },
     "output_type": "display_data"
    }
   ],
   "source": [
    "plt.bar(x =expensive_bar.index, height=expensive_bar,color = 'pink')\n",
    "plt.title('Percived Brand Image of Evian - Expensive demension')\n",
    "plt.xlabel('Degree of Expensive')\n",
    "plt.ylabel('Observation number')"
   ]
  },
  {
   "cell_type": "code",
   "execution_count": 36,
   "metadata": {},
   "outputs": [
    {
     "data": {
      "text/plain": [
       "Text(0, 0.5, 'Observation number')"
      ]
     },
     "execution_count": 36,
     "metadata": {},
     "output_type": "execute_result"
    },
    {
     "data": {
      "image/png": "[encoded data removed]",
      "text/plain": [
       "<Figure size 432x288 with 1 Axes>"
      ]
     },
     "metadata": {
      "needs_background": "light"
     },
     "output_type": "display_data"
    }
   ],
   "source": [
    "desirable_bar = results.Evian_desirable.value_counts()\n",
    "plt.bar(x =desirable_bar.index, height=desirable_bar,color = '#90EE90')\n",
    "plt.title('Percived Brand Image of Evian - Desirable demension')\n",
    "plt.xlabel('Degree of Desirable')\n",
    "plt.ylabel('Observation number')"
   ]
  },
  {
   "cell_type": "code",
   "execution_count": 37,
   "metadata": {},
   "outputs": [
    {
     "data": {
      "text/plain": [
       "Text(0, 0.5, 'Observation number')"
      ]
     },
     "execution_count": 37,
     "metadata": {},
     "output_type": "execute_result"
    },
    {
     "data": {
      "image/png": "[encoded data removed]",
      "text/plain": [
       "<Figure size 432x288 with 1 Axes>"
      ]
     },
     "metadata": {
      "needs_background": "light"
     },
     "output_type": "display_data"
    }
   ],
   "source": [
    "healthy_bar = results.Evian_healthy.value_counts()\n",
    "plt.bar(x =healthy_bar.index, height=healthy_bar,color = '#ADD8E6')\n",
    "plt.title('Percived Brand Image of Evian - Healthy demension')\n",
    "plt.xlabel('Degree of Healthy')\n",
    "plt.ylabel('Observation number')"
   ]
  },
  {
   "cell_type": "code",
   "execution_count": 38,
   "metadata": {},
   "outputs": [
    {
     "data": {
      "text/plain": [
       "Text(0, 0.5, 'Observation number')"
      ]
     },
     "execution_count": 38,
     "metadata": {},
     "output_type": "execute_result"
    },
    {
     "data": {
      "image/png": "[encoded data removed]",
      "text/plain": [
       "<Figure size 432x288 with 1 Axes>"
      ]
     },
     "metadata": {
      "needs_background": "light"
     },
     "output_type": "display_data"
    }
   ],
   "source": [
    "acc_bar = results.Evian_accessible.value_counts()\n",
    "plt.bar(x =acc_bar.index, height=acc_bar,color = '#D3D3D3')\n",
    "plt.title('Percived Brand Image of Evian - Accessible demension')\n",
    "plt.xlabel('Degree of Accessible')\n",
    "plt.ylabel('Observation number')"
   ]
  },
  {
   "cell_type": "code",
   "execution_count": 39,
   "metadata": {
    "scrolled": true
   },
   "outputs": [
    {
     "data": {
      "text/plain": [
       "Paris          47\n",
       "Outer Paris    46\n",
       "Provience       5\n",
       "Others          3\n",
       "Name: Residence, dtype: int64"
      ]
     },
     "execution_count": 39,
     "metadata": {},
     "output_type": "execute_result"
    }
   ],
   "source": [
    "residence = results.Residence.value_counts()\n",
    "residence"
   ]
  },
  {
   "cell_type": "code",
   "execution_count": 40,
   "metadata": {},
   "outputs": [],
   "source": [
    "cro_res = results[['Residence','Evian_expensive','Evian_desirable','Evian_healthy','Evian_accessible']]"
   ]
  },
  {
   "cell_type": "code",
   "execution_count": 41,
   "metadata": {},
   "outputs": [
    {
     "data": {
      "text/html": [
       "<div>\n",
       "<style scoped>\n",
       "    .dataframe tbody tr th:only-of-type {\n",
       "        vertical-align: middle;\n",
       "    }\n",
       "\n",
       "    .dataframe tbody tr th {\n",
       "        vertical-align: top;\n",
       "    }\n",
       "\n",
       "    .dataframe thead th {\n",
       "        text-align: right;\n",
       "    }\n",
       "</style>\n",
       "<table border=\"1\" class=\"dataframe\">\n",
       "  <thead>\n",
       "    <tr style=\"text-align: right;\">\n",
       "      <th></th>\n",
       "      <th>Evian_expensive</th>\n",
       "      <th>Evian_desirable</th>\n",
       "      <th>Evian_healthy</th>\n",
       "      <th>Evian_accessible</th>\n",
       "    </tr>\n",
       "    <tr>\n",
       "      <th>Residence</th>\n",
       "      <th></th>\n",
       "      <th></th>\n",
       "      <th></th>\n",
       "      <th></th>\n",
       "    </tr>\n",
       "  </thead>\n",
       "  <tbody>\n",
       "    <tr>\n",
       "      <th>Others</th>\n",
       "      <td>4.000000</td>\n",
       "      <td>3.333333</td>\n",
       "      <td>3.333333</td>\n",
       "      <td>3.000000</td>\n",
       "    </tr>\n",
       "    <tr>\n",
       "      <th>Outer Paris</th>\n",
       "      <td>3.739130</td>\n",
       "      <td>3.369565</td>\n",
       "      <td>3.521739</td>\n",
       "      <td>3.717391</td>\n",
       "    </tr>\n",
       "    <tr>\n",
       "      <th>Paris</th>\n",
       "      <td>4.170213</td>\n",
       "      <td>4.255319</td>\n",
       "      <td>4.361702</td>\n",
       "      <td>4.446809</td>\n",
       "    </tr>\n",
       "    <tr>\n",
       "      <th>Provience</th>\n",
       "      <td>3.600000</td>\n",
       "      <td>3.600000</td>\n",
       "      <td>3.200000</td>\n",
       "      <td>2.600000</td>\n",
       "    </tr>\n",
       "  </tbody>\n",
       "</table>\n",
       "</div>"
      ],
      "text/plain": [
       "             Evian_expensive  Evian_desirable  Evian_healthy  Evian_accessible\n",
       "Residence                                                                     \n",
       "Others              4.000000         3.333333       3.333333          3.000000\n",
       "Outer Paris         3.739130         3.369565       3.521739          3.717391\n",
       "Paris               4.170213         4.255319       4.361702          4.446809\n",
       "Provience           3.600000         3.600000       3.200000          2.600000"
      ]
     },
     "execution_count": 41,
     "metadata": {},
     "output_type": "execute_result"
    }
   ],
   "source": [
    "cro_res_image = cro_res[['Evian_expensive','Evian_desirable','Evian_healthy','Evian_accessible']].groupby(cro_res.Residence).mean()\n",
    "cro_res_image"
   ]
  },
  {
   "cell_type": "code",
   "execution_count": 48,
   "metadata": {},
   "outputs": [
    {
     "data": {
      "text/plain": [
       "€1 to €2                 36\n",
       "Less than €1             31\n",
       "€2 to €3                 25\n",
       "€3 to €4                  6\n",
       "Less than €1;€1 to €2     2\n",
       "€1 to €2;€2 to €3         1\n",
       "Name: evian_purchase_wil, dtype: int64"
      ]
     },
     "execution_count": 48,
     "metadata": {},
     "output_type": "execute_result"
    }
   ],
   "source": [
    "purchase_desire = results.evian_purchase_wil.value_counts()\n",
    "purchase_desire"
   ]
  },
  {
   "cell_type": "code",
   "execution_count": 55,
   "metadata": {
    "scrolled": true
   },
   "outputs": [
    {
     "data": {
      "text/plain": [
       "Text(0.5, 1.0, 'Willing to pay of Evian')"
      ]
     },
     "execution_count": 55,
     "metadata": {},
     "output_type": "execute_result"
    },
    {
     "data": {
      "image/png": "[encoded data removed]",
      "text/plain": [
       "<Figure size 720x360 with 1 Axes>"
      ]
     },
     "metadata": {
      "needs_background": "light"
     },
     "output_type": "display_data"
    }
   ],
   "source": [
    "plt.figure(figsize=(10,5))\n",
    "plt.bar(x=purchase_desire.index, height= purchase_desire, color = '#B0C4DE')\n",
    "plt.xlabel('Willing to Pay')\n",
    "plt.ylabel('Number of people')\n",
    "plt.title('Willing to pay of Evian')"
   ]
  },
  {
   "cell_type": "code",
   "execution_count": 58,
   "metadata": {
    "scrolled": false
   },
   "outputs": [
    {
     "data": {
      "text/plain": [
       "Text(0.5, 1.0, 'Willing to pay of General Bottle Water')"
      ]
     },
     "execution_count": 58,
     "metadata": {},
     "output_type": "execute_result"
    },
    {
     "data": {
      "image/png": "[encoded data removed]",
      "text/plain": [
       "<Figure size 720x360 with 1 Axes>"
      ]
     },
     "metadata": {
      "needs_background": "light"
     },
     "output_type": "display_data"
    }
   ],
   "source": [
    "other_purchase_desire = results.other_purchase_wil.value_counts()\n",
    "plt.figure(figsize=(10,5))\n",
    "plt.bar(x=other_purchase_desire.index, height= other_purchase_desire, color = '#FFFACD')\n",
    "plt.xlabel('Willing to Pay')\n",
    "plt.ylabel('Number of people')\n",
    "plt.title('Willing to pay of General Bottle Water')"
   ]
  },
  {
   "cell_type": "code",
   "execution_count": 96,
   "metadata": {},
   "outputs": [],
   "source": [
    "pur_cro = results[['Gender','Residence','Water_type','evian_purchase_wil','other_purchase_wil']]"
   ]
  },
  {
   "cell_type": "code",
   "execution_count": 99,
   "metadata": {
    "scrolled": true
   },
   "outputs": [
    {
     "data": {
      "text/html": [
       "<div>\n",
       "<style scoped>\n",
       "    .dataframe tbody tr th:only-of-type {\n",
       "        vertical-align: middle;\n",
       "    }\n",
       "\n",
       "    .dataframe tbody tr th {\n",
       "        vertical-align: top;\n",
       "    }\n",
       "\n",
       "    .dataframe thead th {\n",
       "        text-align: right;\n",
       "    }\n",
       "</style>\n",
       "<table border=\"1\" class=\"dataframe\">\n",
       "  <thead>\n",
       "    <tr style=\"text-align: right;\">\n",
       "      <th></th>\n",
       "      <th>evian_purchase_wil</th>\n",
       "      <th>other_purchase_wil</th>\n",
       "    </tr>\n",
       "    <tr>\n",
       "      <th>Gender</th>\n",
       "      <th></th>\n",
       "      <th></th>\n",
       "    </tr>\n",
       "  </thead>\n",
       "  <tbody>\n",
       "    <tr>\n",
       "      <th>Female</th>\n",
       "      <td>1.883333</td>\n",
       "      <td>1.10</td>\n",
       "    </tr>\n",
       "    <tr>\n",
       "      <th>Male</th>\n",
       "      <td>1.462500</td>\n",
       "      <td>1.15</td>\n",
       "    </tr>\n",
       "    <tr>\n",
       "      <th>Non-binary</th>\n",
       "      <td>1.000000</td>\n",
       "      <td>1.00</td>\n",
       "    </tr>\n",
       "  </tbody>\n",
       "</table>\n",
       "</div>"
      ],
      "text/plain": [
       "            evian_purchase_wil  other_purchase_wil\n",
       "Gender                                            \n",
       "Female                1.883333                1.10\n",
       "Male                  1.462500                1.15\n",
       "Non-binary            1.000000                1.00"
      ]
     },
     "execution_count": 99,
     "metadata": {},
     "output_type": "execute_result"
    }
   ],
   "source": [
    "pur_cro_evian = pur_cro[['evian_purchase_wil','other_purchase_wil']].groupby(pur_cro.Gender).mean()\n",
    "pur_cro_evian"
   ]
  },
  {
   "cell_type": "code",
   "execution_count": 67,
   "metadata": {},
   "outputs": [
    {
     "data": {
      "text/plain": [
       "€1 to €2                 36\n",
       "Less than €1             31\n",
       "€2 to €3                 25\n",
       "€3 to €4                  6\n",
       "Less than €1;€1 to €2     2\n",
       "€1 to €2;€2 to €3         1\n",
       "Name: evian_purchase_wil, dtype: int64"
      ]
     },
     "execution_count": 67,
     "metadata": {},
     "output_type": "execute_result"
    }
   ],
   "source": [
    "pur_cro['evian_purchase_wil'].value_counts()"
   ]
  },
  {
   "cell_type": "code",
   "execution_count": 72,
   "metadata": {},
   "outputs": [],
   "source": [
    "Purchase = {'€1 to €2':1.5,\n",
    "           'Less than €1':1,\n",
    "           '€2 to €3':2.5,\n",
    "           '€3 to €4':3.5,\n",
    "           'Less than €1;€1 to €2':1,\n",
    "           '€1 to €2;€2 to €3':2}"
   ]
  },
  {
   "cell_type": "code",
   "execution_count": 73,
   "metadata": {},
   "outputs": [],
   "source": [
    "results['evian_purchase_wil'].replace(Purchase, inplace = True)"
   ]
  },
  {
   "cell_type": "code",
   "execution_count": 74,
   "metadata": {
    "scrolled": true
   },
   "outputs": [
    {
     "data": {
      "text/plain": [
       "1.5    36\n",
       "1.0    33\n",
       "2.5    25\n",
       "3.5     6\n",
       "2.0     1\n",
       "Name: evian_purchase_wil, dtype: int64"
      ]
     },
     "execution_count": 74,
     "metadata": {},
     "output_type": "execute_result"
    }
   ],
   "source": [
    "results['evian_purchase_wil'].value_counts()"
   ]
  },
  {
   "cell_type": "code",
   "execution_count": 75,
   "metadata": {},
   "outputs": [],
   "source": [
    "results['other_purchase_wil'].replace(Purchase, inplace = True)"
   ]
  },
  {
   "cell_type": "code",
   "execution_count": 76,
   "metadata": {
    "scrolled": true
   },
   "outputs": [
    {
     "data": {
      "text/plain": [
       "1.0    54\n",
       "1.5    38\n",
       "2.5     6\n",
       "3.5     3\n",
       "Name: other_purchase_wil, dtype: int64"
      ]
     },
     "execution_count": 76,
     "metadata": {},
     "output_type": "execute_result"
    }
   ],
   "source": [
    "results['other_purchase_wil'].value_counts()"
   ]
  },
  {
   "cell_type": "code",
   "execution_count": 85,
   "metadata": {},
   "outputs": [],
   "source": [
    "results['other_purchase_wil'] = results['other_purchase_wil'].astype(int)\n",
    "results[['Evian_expensive','Evian_desirable','Evian_healthy','Evian_accessible']] = results[['Evian_expensive','Evian_desirable','Evian_healthy','Evian_accessible']].astype(int)"
   ]
  },
  {
   "cell_type": "code",
   "execution_count": 100,
   "metadata": {
    "scrolled": true
   },
   "outputs": [
    {
     "data": {
      "text/html": [
       "<div>\n",
       "<style scoped>\n",
       "    .dataframe tbody tr th:only-of-type {\n",
       "        vertical-align: middle;\n",
       "    }\n",
       "\n",
       "    .dataframe tbody tr th {\n",
       "        vertical-align: top;\n",
       "    }\n",
       "\n",
       "    .dataframe thead th {\n",
       "        text-align: right;\n",
       "    }\n",
       "</style>\n",
       "<table border=\"1\" class=\"dataframe\">\n",
       "  <thead>\n",
       "    <tr style=\"text-align: right;\">\n",
       "      <th></th>\n",
       "      <th>evian_purchase_wil</th>\n",
       "      <th>other_purchase_wil</th>\n",
       "    </tr>\n",
       "    <tr>\n",
       "      <th>Residence</th>\n",
       "      <th></th>\n",
       "      <th></th>\n",
       "    </tr>\n",
       "  </thead>\n",
       "  <tbody>\n",
       "    <tr>\n",
       "      <th>Others</th>\n",
       "      <td>1.500000</td>\n",
       "      <td>1.000000</td>\n",
       "    </tr>\n",
       "    <tr>\n",
       "      <th>Outer Paris</th>\n",
       "      <td>1.434783</td>\n",
       "      <td>1.000000</td>\n",
       "    </tr>\n",
       "    <tr>\n",
       "      <th>Paris</th>\n",
       "      <td>2.021277</td>\n",
       "      <td>1.234043</td>\n",
       "    </tr>\n",
       "    <tr>\n",
       "      <th>Provience</th>\n",
       "      <td>1.400000</td>\n",
       "      <td>1.200000</td>\n",
       "    </tr>\n",
       "  </tbody>\n",
       "</table>\n",
       "</div>"
      ],
      "text/plain": [
       "             evian_purchase_wil  other_purchase_wil\n",
       "Residence                                          \n",
       "Others                 1.500000            1.000000\n",
       "Outer Paris            1.434783            1.000000\n",
       "Paris                  2.021277            1.234043\n",
       "Provience              1.400000            1.200000"
      ]
     },
     "execution_count": 100,
     "metadata": {},
     "output_type": "execute_result"
    }
   ],
   "source": [
    "pur_cro_res_evian = pur_cro[['evian_purchase_wil','other_purchase_wil']].groupby(pur_cro.Residence).mean()\n",
    "pur_cro_res_evian"
   ]
  },
  {
   "cell_type": "code",
   "execution_count": 101,
   "metadata": {},
   "outputs": [
    {
     "data": {
      "text/html": [
       "<div>\n",
       "<style scoped>\n",
       "    .dataframe tbody tr th:only-of-type {\n",
       "        vertical-align: middle;\n",
       "    }\n",
       "\n",
       "    .dataframe tbody tr th {\n",
       "        vertical-align: top;\n",
       "    }\n",
       "\n",
       "    .dataframe thead th {\n",
       "        text-align: right;\n",
       "    }\n",
       "</style>\n",
       "<table border=\"1\" class=\"dataframe\">\n",
       "  <thead>\n",
       "    <tr style=\"text-align: right;\">\n",
       "      <th></th>\n",
       "      <th>evian_purchase_wil</th>\n",
       "      <th>other_purchase_wil</th>\n",
       "    </tr>\n",
       "    <tr>\n",
       "      <th>Water_type</th>\n",
       "      <th></th>\n",
       "      <th></th>\n",
       "    </tr>\n",
       "  </thead>\n",
       "  <tbody>\n",
       "    <tr>\n",
       "      <th>Bottled Water</th>\n",
       "      <td>2.019231</td>\n",
       "      <td>1.115385</td>\n",
       "    </tr>\n",
       "    <tr>\n",
       "      <th>Tap Water</th>\n",
       "      <td>1.385417</td>\n",
       "      <td>1.125000</td>\n",
       "    </tr>\n",
       "    <tr>\n",
       "      <th>Tap Water;Bottled Water</th>\n",
       "      <td>1.000000</td>\n",
       "      <td>1.000000</td>\n",
       "    </tr>\n",
       "  </tbody>\n",
       "</table>\n",
       "</div>"
      ],
      "text/plain": [
       "                         evian_purchase_wil  other_purchase_wil\n",
       "Water_type                                                     \n",
       "Bottled Water                      2.019231            1.115385\n",
       "Tap Water                          1.385417            1.125000\n",
       "Tap Water;Bottled Water            1.000000            1.000000"
      ]
     },
     "execution_count": 101,
     "metadata": {},
     "output_type": "execute_result"
    }
   ],
   "source": [
    "pur_cro_type_evian = pur_cro[['evian_purchase_wil','other_purchase_wil']].groupby(pur_cro.Water_type).mean()\n",
    "pur_cro_type_evian"
   ]
  },
  {
   "cell_type": "code",
   "execution_count": 102,
   "metadata": {},
   "outputs": [],
   "source": [
    "from statsmodels.formula.api import ols"
   ]
  },
  {
   "cell_type": "code",
   "execution_count": 103,
   "metadata": {},
   "outputs": [],
   "source": [
    "lm = ols('evian_purchase_wil~Evian_expensive+Evian_desirable+Evian_healthy+Evian_accessible',data = results).fit()"
   ]
  },
  {
   "cell_type": "code",
   "execution_count": 107,
   "metadata": {},
   "outputs": [
    {
     "data": {
      "text/html": [
       "<table class=\"simpletable\">\n",
       "<caption>OLS Regression Results</caption>\n",
       "<tr>\n",
       "  <th>Dep. Variable:</th>    <td>evian_purchase_wil</td> <th>  R-squared:         </th> <td>   0.523</td>\n",
       "</tr>\n",
       "<tr>\n",
       "  <th>Model:</th>                    <td>OLS</td>        <th>  Adj. R-squared:    </th> <td>   0.504</td>\n",
       "</tr>\n",
       "<tr>\n",
       "  <th>Method:</th>              <td>Least Squares</td>   <th>  F-statistic:       </th> <td>   26.36</td>\n",
       "</tr>\n",
       "<tr>\n",
       "  <th>Date:</th>              <td>Sat, 21 Nov 2020</td>  <th>  Prob (F-statistic):</th> <td>9.28e-15</td>\n",
       "</tr>\n",
       "<tr>\n",
       "  <th>Time:</th>                  <td>22:49:51</td>      <th>  Log-Likelihood:    </th> <td> -73.450</td>\n",
       "</tr>\n",
       "<tr>\n",
       "  <th>No. Observations:</th>       <td>   101</td>       <th>  AIC:               </th> <td>   156.9</td>\n",
       "</tr>\n",
       "<tr>\n",
       "  <th>Df Residuals:</th>           <td>    96</td>       <th>  BIC:               </th> <td>   170.0</td>\n",
       "</tr>\n",
       "<tr>\n",
       "  <th>Df Model:</th>               <td>     4</td>       <th>                     </th>     <td> </td>   \n",
       "</tr>\n",
       "<tr>\n",
       "  <th>Covariance Type:</th>       <td>nonrobust</td>     <th>                     </th>     <td> </td>   \n",
       "</tr>\n",
       "</table>\n",
       "<table class=\"simpletable\">\n",
       "<tr>\n",
       "          <td></td>            <th>coef</th>     <th>std err</th>      <th>t</th>      <th>P>|t|</th>  <th>[0.025</th>    <th>0.975]</th>  \n",
       "</tr>\n",
       "<tr>\n",
       "  <th>Intercept</th>        <td>   -0.5655</td> <td>    0.236</td> <td>   -2.399</td> <td> 0.018</td> <td>   -1.033</td> <td>   -0.098</td>\n",
       "</tr>\n",
       "<tr>\n",
       "  <th>Evian_expensive</th>  <td>    0.2068</td> <td>    0.066</td> <td>    3.128</td> <td> 0.002</td> <td>    0.076</td> <td>    0.338</td>\n",
       "</tr>\n",
       "<tr>\n",
       "  <th>Evian_desirable</th>  <td>    0.1867</td> <td>    0.073</td> <td>    2.567</td> <td> 0.012</td> <td>    0.042</td> <td>    0.331</td>\n",
       "</tr>\n",
       "<tr>\n",
       "  <th>Evian_healthy</th>    <td>    0.1398</td> <td>    0.079</td> <td>    1.760</td> <td> 0.082</td> <td>   -0.018</td> <td>    0.298</td>\n",
       "</tr>\n",
       "<tr>\n",
       "  <th>Evian_accessible</th> <td>    0.0518</td> <td>    0.069</td> <td>    0.753</td> <td> 0.453</td> <td>   -0.085</td> <td>    0.189</td>\n",
       "</tr>\n",
       "</table>\n",
       "<table class=\"simpletable\">\n",
       "<tr>\n",
       "  <th>Omnibus:</th>       <td> 7.384</td> <th>  Durbin-Watson:     </th> <td>   2.019</td>\n",
       "</tr>\n",
       "<tr>\n",
       "  <th>Prob(Omnibus):</th> <td> 0.025</td> <th>  Jarque-Bera (JB):  </th> <td>   7.001</td>\n",
       "</tr>\n",
       "<tr>\n",
       "  <th>Skew:</th>          <td> 0.542</td> <th>  Prob(JB):          </th> <td>  0.0302</td>\n",
       "</tr>\n",
       "<tr>\n",
       "  <th>Kurtosis:</th>      <td> 3.698</td> <th>  Cond. No.          </th> <td>    37.5</td>\n",
       "</tr>\n",
       "</table><br/><br/>Warnings:<br/>[1] Standard Errors assume that the covariance matrix of the errors is correctly specified."
      ],
      "text/plain": [
       "<class 'statsmodels.iolib.summary.Summary'>\n",
       "\"\"\"\n",
       "                            OLS Regression Results                            \n",
       "==============================================================================\n",
       "Dep. Variable:     evian_purchase_wil   R-squared:                       0.523\n",
       "Model:                            OLS   Adj. R-squared:                  0.504\n",
       "Method:                 Least Squares   F-statistic:                     26.36\n",
       "Date:                Sat, 21 Nov 2020   Prob (F-statistic):           9.28e-15\n",
       "Time:                        22:49:51   Log-Likelihood:                -73.450\n",
       "No. Observations:                 101   AIC:                             156.9\n",
       "Df Residuals:                      96   BIC:                             170.0\n",
       "Df Model:                           4                                         \n",
       "Covariance Type:            nonrobust                                         \n",
       "====================================================================================\n",
       "                       coef    std err          t      P>|t|      [0.025      0.975]\n",
       "------------------------------------------------------------------------------------\n",
       "Intercept           -0.5655      0.236     -2.399      0.018      -1.033      -0.098\n",
       "Evian_expensive      0.2068      0.066      3.128      0.002       0.076       0.338\n",
       "Evian_desirable      0.1867      0.073      2.567      0.012       0.042       0.331\n",
       "Evian_healthy        0.1398      0.079      1.760      0.082      -0.018       0.298\n",
       "Evian_accessible     0.0518      0.069      0.753      0.453      -0.085       0.189\n",
       "==============================================================================\n",
       "Omnibus:                        7.384   Durbin-Watson:                   2.019\n",
       "Prob(Omnibus):                  0.025   Jarque-Bera (JB):                7.001\n",
       "Skew:                           0.542   Prob(JB):                       0.0302\n",
       "Kurtosis:                       3.698   Cond. No.                         37.5\n",
       "==============================================================================\n",
       "\n",
       "Warnings:\n",
       "[1] Standard Errors assume that the covariance matrix of the errors is correctly specified.\n",
       "\"\"\""
      ]
     },
     "execution_count": 107,
     "metadata": {},
     "output_type": "execute_result"
    }
   ],
   "source": [
    "lm.summary()"
   ]
  },
  {
   "cell_type": "code",
   "execution_count": 109,
   "metadata": {},
   "outputs": [],
   "source": [
    "lm2= ols('evian_environment~Concerned_about_Environment', data = results).fit()"
   ]
  },
  {
   "cell_type": "code",
   "execution_count": 110,
   "metadata": {},
   "outputs": [
    {
     "data": {
      "text/html": [
       "<table class=\"simpletable\">\n",
       "<caption>OLS Regression Results</caption>\n",
       "<tr>\n",
       "  <th>Dep. Variable:</th>    <td>evian_environment</td> <th>  R-squared:         </th> <td>   0.259</td>\n",
       "</tr>\n",
       "<tr>\n",
       "  <th>Model:</th>                   <td>OLS</td>        <th>  Adj. R-squared:    </th> <td>   0.251</td>\n",
       "</tr>\n",
       "<tr>\n",
       "  <th>Method:</th>             <td>Least Squares</td>   <th>  F-statistic:       </th> <td>   34.56</td>\n",
       "</tr>\n",
       "<tr>\n",
       "  <th>Date:</th>             <td>Sun, 22 Nov 2020</td>  <th>  Prob (F-statistic):</th> <td>5.59e-08</td>\n",
       "</tr>\n",
       "<tr>\n",
       "  <th>Time:</th>                 <td>00:24:22</td>      <th>  Log-Likelihood:    </th> <td> -139.34</td>\n",
       "</tr>\n",
       "<tr>\n",
       "  <th>No. Observations:</th>      <td>   101</td>       <th>  AIC:               </th> <td>   282.7</td>\n",
       "</tr>\n",
       "<tr>\n",
       "  <th>Df Residuals:</th>          <td>    99</td>       <th>  BIC:               </th> <td>   287.9</td>\n",
       "</tr>\n",
       "<tr>\n",
       "  <th>Df Model:</th>              <td>     1</td>       <th>                     </th>     <td> </td>   \n",
       "</tr>\n",
       "<tr>\n",
       "  <th>Covariance Type:</th>      <td>nonrobust</td>     <th>                     </th>     <td> </td>   \n",
       "</tr>\n",
       "</table>\n",
       "<table class=\"simpletable\">\n",
       "<tr>\n",
       "               <td></td>                  <th>coef</th>     <th>std err</th>      <th>t</th>      <th>P>|t|</th>  <th>[0.025</th>    <th>0.975]</th>  \n",
       "</tr>\n",
       "<tr>\n",
       "  <th>Intercept</th>                   <td>    1.2699</td> <td>    0.471</td> <td>    2.696</td> <td> 0.008</td> <td>    0.335</td> <td>    2.205</td>\n",
       "</tr>\n",
       "<tr>\n",
       "  <th>Concerned_about_Environment</th> <td>    0.6628</td> <td>    0.113</td> <td>    5.879</td> <td> 0.000</td> <td>    0.439</td> <td>    0.886</td>\n",
       "</tr>\n",
       "</table>\n",
       "<table class=\"simpletable\">\n",
       "<tr>\n",
       "  <th>Omnibus:</th>       <td>18.140</td> <th>  Durbin-Watson:     </th> <td>   1.715</td>\n",
       "</tr>\n",
       "<tr>\n",
       "  <th>Prob(Omnibus):</th> <td> 0.000</td> <th>  Jarque-Bera (JB):  </th> <td>  23.317</td>\n",
       "</tr>\n",
       "<tr>\n",
       "  <th>Skew:</th>          <td>-0.913</td> <th>  Prob(JB):          </th> <td>8.65e-06</td>\n",
       "</tr>\n",
       "<tr>\n",
       "  <th>Kurtosis:</th>      <td> 4.486</td> <th>  Cond. No.          </th> <td>    21.5</td>\n",
       "</tr>\n",
       "</table><br/><br/>Warnings:<br/>[1] Standard Errors assume that the covariance matrix of the errors is correctly specified."
      ],
      "text/plain": [
       "<class 'statsmodels.iolib.summary.Summary'>\n",
       "\"\"\"\n",
       "                            OLS Regression Results                            \n",
       "==============================================================================\n",
       "Dep. Variable:      evian_environment   R-squared:                       0.259\n",
       "Model:                            OLS   Adj. R-squared:                  0.251\n",
       "Method:                 Least Squares   F-statistic:                     34.56\n",
       "Date:                Sun, 22 Nov 2020   Prob (F-statistic):           5.59e-08\n",
       "Time:                        00:24:22   Log-Likelihood:                -139.34\n",
       "No. Observations:                 101   AIC:                             282.7\n",
       "Df Residuals:                      99   BIC:                             287.9\n",
       "Df Model:                           1                                         \n",
       "Covariance Type:            nonrobust                                         \n",
       "===============================================================================================\n",
       "                                  coef    std err          t      P>|t|      [0.025      0.975]\n",
       "-----------------------------------------------------------------------------------------------\n",
       "Intercept                       1.2699      0.471      2.696      0.008       0.335       2.205\n",
       "Concerned_about_Environment     0.6628      0.113      5.879      0.000       0.439       0.886\n",
       "==============================================================================\n",
       "Omnibus:                       18.140   Durbin-Watson:                   1.715\n",
       "Prob(Omnibus):                  0.000   Jarque-Bera (JB):               23.317\n",
       "Skew:                          -0.913   Prob(JB):                     8.65e-06\n",
       "Kurtosis:                       4.486   Cond. No.                         21.5\n",
       "==============================================================================\n",
       "\n",
       "Warnings:\n",
       "[1] Standard Errors assume that the covariance matrix of the errors is correctly specified.\n",
       "\"\"\""
      ]
     },
     "execution_count": 110,
     "metadata": {},
     "output_type": "execute_result"
    }
   ],
   "source": [
    "lm2.summary()"
   ]
  },
  {
   "cell_type": "code",
   "execution_count": 111,
   "metadata": {},
   "outputs": [
    {
     "data": {
      "text/plain": [
       "<matplotlib.collections.PathCollection at 0x21a8821f9c8>"
      ]
     },
     "execution_count": 111,
     "metadata": {},
     "output_type": "execute_result"
    },
    {
     "data": {
      "image/png": "[encoded data removed]",
      "text/plain": [
       "<Figure size 432x288 with 1 Axes>"
      ]
     },
     "metadata": {
      "needs_background": "light"
     },
     "output_type": "display_data"
    }
   ],
   "source": [
    "plt.scatter(results['Concerned_about_Environment'],results['evian_environment'])"
   ]
  }
 ],
 "metadata": {
  "kernelspec": {
   "display_name": "Python 3",
   "language": "python",
   "name": "python3"
  },
  "language_info": {
   "codemirror_mode": {
    "name": "ipython",
    "version": 3
   },
   "file_extension": ".py",
   "mimetype": "text/x-python",
   "name": "python",
   "nbconvert_exporter": "python",
   "pygments_lexer": "ipython3",
   "version": "3.7.4"
  }
 },
 "nbformat": 4,
 "nbformat_minor": 4
}
